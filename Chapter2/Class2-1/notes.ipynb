{
 "cells": [
  {
   "attachments": {},
   "cell_type": "markdown",
   "metadata": {},
   "source": [
    "# Recurrencia"
   ]
  },
  {
   "cell_type": "code",
   "execution_count": 4,
   "metadata": {},
   "outputs": [
    {
     "data": {
      "text/plain": [
       "'AA'"
      ]
     },
     "execution_count": 4,
     "metadata": {},
     "output_type": "execute_result"
    }
   ],
   "source": [
    "import time\n",
    "def fun_a():\n",
    "    time.sleep(3)\n",
    "    return \"A\"\n",
    "\n",
    "def fun_main():\n",
    "    return fun_a() + fun_a() \n",
    "\n",
    "fun_main()"
   ]
  },
  {
   "cell_type": "code",
   "execution_count": 10,
   "metadata": {},
   "outputs": [
    {
     "data": {
      "text/plain": [
       "False"
      ]
     },
     "execution_count": 10,
     "metadata": {},
     "output_type": "execute_result"
    }
   ],
   "source": [
    "def fun_true():\n",
    "    time.sleep(3)\n",
    "    return True\n",
    "\n",
    "def fun_false():\n",
    "    time.sleep(3)\n",
    "    return False\n",
    "\n",
    "def fun_main_and():\n",
    "    return fun_false() and fun_true()   \n",
    "\n",
    "fun_main_and()\n"
   ]
  },
  {
   "cell_type": "code",
   "execution_count": 7,
   "metadata": {},
   "outputs": [
    {
     "data": {
      "text/plain": [
       "15"
      ]
     },
     "execution_count": 7,
     "metadata": {},
     "output_type": "execute_result"
    }
   ],
   "source": [
    "def suma_hasta(n, accum):\n",
    "    if n == 0:\n",
    "        return accum\n",
    "    else:\n",
    "        accum += n\n",
    "        return suma_hasta( n -1 ,accum)\n",
    "suma_hasta(5,0)"
   ]
  },
  {
   "cell_type": "code",
   "execution_count": 13,
   "metadata": {},
   "outputs": [
    {
     "data": {
      "text/plain": [
       "False"
      ]
     },
     "execution_count": 13,
     "metadata": {},
     "output_type": "execute_result"
    }
   ],
   "source": [
    "def is_order(lista,idx):\n",
    "    if idx == len(lista)- 1:\n",
    "        return True\n",
    "    else:\n",
    "        return lista[idx]<lista[idx+1] and is_order(lista,idx+1)\n",
    "\n",
    "is_order([1,2,9,4,5],0)"
   ]
  },
  {
   "cell_type": "code",
   "execution_count": 15,
   "metadata": {},
   "outputs": [
    {
     "name": "stdout",
     "output_type": "stream",
     "text": [
      "5\n",
      "[1, 2, 9, 4]\n"
     ]
    }
   ],
   "source": [
    "a = [1,2,9,4,5]\n",
    "b = a.pop()\n",
    "print(b)\n",
    "print(a)"
   ]
  }
 ],
 "metadata": {
  "kernelspec": {
   "display_name": "Python 3",
   "language": "python",
   "name": "python3"
  },
  "language_info": {
   "codemirror_mode": {
    "name": "ipython",
    "version": 3
   },
   "file_extension": ".py",
   "mimetype": "text/x-python",
   "name": "python",
   "nbconvert_exporter": "python",
   "pygments_lexer": "ipython3",
   "version": "3.10.4"
  },
  "orig_nbformat": 4,
  "vscode": {
   "interpreter": {
    "hash": "e913b7897ac30ba1cf0615ffc95e0dcac655edcf15ece0252fa093eec079069f"
   }
  }
 },
 "nbformat": 4,
 "nbformat_minor": 2
}
