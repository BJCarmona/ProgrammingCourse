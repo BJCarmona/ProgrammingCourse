{
 "cells": [
  {
   "attachments": {},
   "cell_type": "markdown",
   "metadata": {},
   "source": [
    "# Homework 2"
   ]
  },
  {
   "attachments": {},
   "cell_type": "markdown",
   "metadata": {},
   "source": [
    "## Part 1 (Here in ipynb)\n",
    "\n",
    "1. What is a exception ?\n",
    "2. What is a try and catch statement , or in python try and except?\n",
    "3. How you catch a expecific exception ?  / Example\n",
    "4. How to create a custom exception ? / Example\n",
    "5. How to catch a some exceptions (not all , not just one) / Example\n",
    "\n",
    "# Part 2 (Here in ipynb)\n",
    "1. What is a type ?\n",
    "2. How to print a type of variable? / Example\n",
    "3. How to check a type ? use in if statement\n",
    "4. Is posible use infite in python ? How works?\n",
    "\n",
    "# Part 3 (In new .py file)\n",
    "1. Recreate the homework1 of this class 2-1 in .py file , but think about of user mistakes in case of mistake print what is the problem with your words.\n",
    "For example :\n",
    "2. Enter a word instead of number\n",
    "3. Enter a empty variable string or array\n",
    "4. What if the target number is not in the list ... ? \n",
    "5. Etc ..."
   ]
  },
  {
   "cell_type": "markdown",
   "metadata": {},
   "source": []
  }
 ],
 "metadata": {
  "kernelspec": {
   "display_name": "Python 3",
   "language": "python",
   "name": "python3"
  },
  "language_info": {
   "name": "python",
   "version": "3.10.4"
  },
  "orig_nbformat": 4,
  "vscode": {
   "interpreter": {
    "hash": "e913b7897ac30ba1cf0615ffc95e0dcac655edcf15ece0252fa093eec079069f"
   }
  }
 },
 "nbformat": 4,
 "nbformat_minor": 2
}
