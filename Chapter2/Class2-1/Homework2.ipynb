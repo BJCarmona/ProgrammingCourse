{
 "cells": [
  {
   "attachments": {},
   "cell_type": "markdown",
   "metadata": {},
   "source": [
    "# Homework 2"
   ]
  },
  {
   "attachments": {},
   "cell_type": "markdown",
   "metadata": {},
   "source": [
    "## Part 1 (Here in ipynb)\n",
    "\n",
    "1. What is a exception ?\n",
    "2. What is a try and catch statement , or in python try and except?\n",
    "3. How you catch a expecific exception ?  / Example\n",
    "4. How to create a custom exception ? / Example\n",
    "5. How to catch a some exceptions (not all , not just one) / Example\n",
    "\n",
    "## Part 2 (Here in ipynb)\n",
    "1. What is a type ?\n",
    "2. How to print a type of variable? / Example\n",
    "3. How to check a type ? use in if statement\n",
    "4. Is posible use infite in python ? How works?\n",
    "\n",
    "## Part 3 (In new .py file)\n",
    "1. Recreate the homework1 of this class 2-1 in .py file , but think about of user mistakes in case of mistake print what is the problem with your words.\n",
    "For example :\n",
    "2. Enter a word instead of number\n",
    "3. Enter a empty variable string or array\n",
    "4. What if the target number is not in the list ... ? \n",
    "5. Etc ..."
   ]
  },
  {
   "attachments": {},
   "cell_type": "markdown",
   "metadata": {},
   "source": [
    "## Solución\n",
    "### Part 1"
   ]
  },
  {
   "attachments": {},
   "cell_type": "markdown",
   "metadata": {},
   "source": [
    "1. Una excepción es un evento que ocurre durante la ejecución de un programa y que interrumpe el flujo normal de ejecución del programa. Las excepciones pueden ser causadas por diferentes situaciones, como errores de sintaxis, errores de lógica, errores de tiempo de ejecución, entre otros."
   ]
  },
  {
   "attachments": {},
   "cell_type": "markdown",
   "metadata": {},
   "source": [
    "2. Un bloque try y except es un mecanismo que se utiliza para manejar excepciones. El bloque try contiene el código que puede generar una excepción, y el bloque except contiene el código que se ejecuta si se produce una excepción. En Python, se utiliza el bloque try y except para manejar excepciones."
   ]
  },
  {
   "attachments": {},
   "cell_type": "markdown",
   "metadata": {},
   "source": [
    "3. Para capturar una excepción específica en Python, se utiliza el bloque try y except junto con la palabra reservada \"except\" seguida del tipo de excepción que queremos capturar. Por ejemplo si queremos capturar una excepción de división entre cero, se puede utilizar el siguiente código:"
   ]
  },
  {
   "cell_type": "code",
   "execution_count": 7,
   "metadata": {},
   "outputs": [
    {
     "name": "stdout",
     "output_type": "stream",
     "text": [
      "No se puede dividir entre cero.\n"
     ]
    }
   ],
   "source": [
    "try:\n",
    "    x = 1 / 0\n",
    "except ZeroDivisionError:\n",
    "    print(\"No se puede dividir entre cero.\")"
   ]
  },
  {
   "attachments": {},
   "cell_type": "markdown",
   "metadata": {},
   "source": [
    "4. Para crear una excepción personalizada en Python, se puede crear una clase que herede de la clase Exception. Por ejemplo para crear una excepción personalizada llamada MiExcepcion, se puede utilizar el siguiente código:"
   ]
  },
  {
   "cell_type": "code",
   "execution_count": 8,
   "metadata": {},
   "outputs": [
    {
     "name": "stdout",
     "output_type": "stream",
     "text": [
      "El valor no puede ser negativo\n"
     ]
    }
   ],
   "source": [
    "class MiExcepcion(Exception):\n",
    "    pass\n",
    "\n",
    "def mi_funcion(valor):\n",
    "    if valor < 0:\n",
    "        raise MiExcepcion(\"El valor no puede ser negativo\")\n",
    "    else:\n",
    "        print(\"El valor es:\", valor)\n",
    "\n",
    "try:\n",
    "    mi_funcion(-5)\n",
    "except MiExcepcion as e:\n",
    "    print(e)"
   ]
  },
  {
   "attachments": {},
   "cell_type": "markdown",
   "metadata": {},
   "source": [
    "5. Para capturar algunas excepciones en Python, se puede utilizar una tupla de excepciones en el bloque except. Por ejemplo para capturar excepciones de división entre cero y excepciones de índice fuera de rango se puede utilizar el siguiente código:"
   ]
  },
  {
   "cell_type": "code",
   "execution_count": 9,
   "metadata": {},
   "outputs": [
    {
     "name": "stdout",
     "output_type": "stream",
     "text": [
      "Error: división entre cero o índice fuera de rango.\n"
     ]
    }
   ],
   "source": [
    "try:\n",
    "    x = [1, 2, 3]\n",
    "    y = x[3] / 0\n",
    "except (ZeroDivisionError, IndexError):\n",
    "    print(\"Error: división entre cero o índice fuera de rango.\")"
   ]
  },
  {
   "attachments": {},
   "cell_type": "markdown",
   "metadata": {},
   "source": [
    "### Part 2"
   ]
  },
  {
   "attachments": {},
   "cell_type": "markdown",
   "metadata": {},
   "source": [
    "1. Un tipo se refiere al conjunto de valores y operaciones que se pueden realizar sobre un objeto. Los tipos permiten especificar cómo se deben representar y manipular los datos en un programa."
   ]
  },
  {
   "attachments": {},
   "cell_type": "markdown",
   "metadata": {},
   "source": [
    "2. En Python, se puede utilizar la función type() para imprimir el tipo de una variable. Si queremos imprimir el tipo de una variable llamada x, se puede utilizar el siguiente código:"
   ]
  },
  {
   "cell_type": "code",
   "execution_count": 10,
   "metadata": {},
   "outputs": [
    {
     "name": "stdout",
     "output_type": "stream",
     "text": [
      "<class 'float'>\n"
     ]
    }
   ],
   "source": [
    "x = 3.14\n",
    "print(type(x))"
   ]
  },
  {
   "attachments": {},
   "cell_type": "markdown",
   "metadata": {},
   "source": [
    "3. En Python se puede utilizar la función isinstance() para verificar si un objeto es de un tipo específico. PAra verificar si una variable llamada x es de tipo entero, se puede utilizar el siguiente código:"
   ]
  },
  {
   "cell_type": "code",
   "execution_count": 11,
   "metadata": {},
   "outputs": [
    {
     "name": "stdout",
     "output_type": "stream",
     "text": [
      "x es un entero.\n"
     ]
    }
   ],
   "source": [
    "x = 10\n",
    "if isinstance(x, int):\n",
    "    print(\"x es un entero.\")"
   ]
  },
  {
   "attachments": {},
   "cell_type": "markdown",
   "metadata": {},
   "source": [
    "En Python, el infinito se representa mediante el objeto float \"inf\" (también se puede representar mediante el objeto \"math.inf\" del módulo \"math\").\n",
    "\n",
    "El infinito en Python se utiliza en operaciones matemáticas que resultan en un valor que no se puede representar mediante un número finito. Por ejemplo, si se divide un número por cero, el resultado es infinito. También es posible utilizar el infinito en comparaciones. Por ejemplo, si se desea verificar si un número es menor que el infinito se puede utilizar:"
   ]
  },
  {
   "cell_type": "markdown",
   "metadata": {},
   "source": []
  },
  {
   "cell_type": "code",
   "execution_count": 12,
   "metadata": {},
   "outputs": [
    {
     "name": "stdout",
     "output_type": "stream",
     "text": [
      "x es menor que infinito.\n"
     ]
    }
   ],
   "source": [
    "x = 10\n",
    "if x < float('inf'):\n",
    "    print(\"x es menor que infinito.\")"
   ]
  }
 ],
 "metadata": {
  "kernelspec": {
   "display_name": "Python 3",
   "language": "python",
   "name": "python3"
  },
  "language_info": {
   "codemirror_mode": {
    "name": "ipython",
    "version": 3
   },
   "file_extension": ".py",
   "mimetype": "text/x-python",
   "name": "python",
   "nbconvert_exporter": "python",
   "pygments_lexer": "ipython3",
   "version": "3.11.2"
  },
  "orig_nbformat": 4,
  "vscode": {
   "interpreter": {
    "hash": "e913b7897ac30ba1cf0615ffc95e0dcac655edcf15ece0252fa093eec079069f"
   }
  }
 },
 "nbformat": 4,
 "nbformat_minor": 2
}
