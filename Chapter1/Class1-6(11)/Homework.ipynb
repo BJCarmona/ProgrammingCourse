{
 "cells": [
  {
   "cell_type": "code",
   "execution_count": 1,
   "metadata": {},
   "outputs": [
    {
     "name": "stdout",
     "output_type": "stream",
     "text": [
      "[0, 1, 1, 1]\n"
     ]
    }
   ],
   "source": [
    "# Hints: Reverse strings, and sum left to right \n",
    "# [\"110\", \"010\", \"110\"] \n",
    "# [\"010\" , \"011\" , \"011\"]\n",
    "# \"0111\"\n",
    "# \"1110\"\n",
    "# And final reverse again the result number\n",
    "# Dont use fixed size ... \n",
    "# Only allow use range( ) len( ) build-in functions\n",
    "\n",
    "def sumar_binarios(lista_binarios):\n",
    "    carry = 0\n",
    "    resultado = []\n",
    "    for i in range(len(lista_binarios[0])-1, -1, -1):\n",
    "        bit_sum = 0\n",
    "        for binario in lista_binarios:\n",
    "            if binario[i] == \"1\":\n",
    "                bit_sum += 1\n",
    "        bit_sum += carry\n",
    "        if bit_sum > 1:\n",
    "            carry = 1\n",
    "            bit_sum -= 2\n",
    "        else:\n",
    "            carry = 0\n",
    "        resultado.append(bit_sum)\n",
    "    if carry:\n",
    "        resultado.append(1)\n",
    "    return resultado\n",
    "\n",
    "def unir_lista_de_binarios(lista_binarios):\n",
    "    resultado = \"\"\n",
    "    for binario in lista_binarios:\n",
    "        resultado += binario\n",
    "    return resultado\n",
    "\n",
    "\n",
    "lista_binarios = [\"110\", \"010\", \"110\"]\n",
    "resultado = sumar_binarios(lista_binarios)\n",
    "print(resultado)\n"
   ]
  }
 ],
 "metadata": {
  "kernelspec": {
   "display_name": "Python 3",
   "language": "python",
   "name": "python3"
  },
  "language_info": {
   "codemirror_mode": {
    "name": "ipython",
    "version": 3
   },
   "file_extension": ".py",
   "mimetype": "text/x-python",
   "name": "python",
   "nbconvert_exporter": "python",
   "pygments_lexer": "ipython3",
   "version": "3.10.9"
  },
  "orig_nbformat": 4,
  "vscode": {
   "interpreter": {
    "hash": "3282607f385ea6f15702157e2a823b97e47a25ad58852c02230532c044fb265d"
   }
  }
 },
 "nbformat": 4,
 "nbformat_minor": 2
}
