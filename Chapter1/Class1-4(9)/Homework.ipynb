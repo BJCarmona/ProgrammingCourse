{
 "cells": [
  {
   "cell_type": "markdown",
   "metadata": {},
   "source": [
    "# Homework 1-4 (9)\n",
    "\n",
    "## Exercise 0 \n",
    "\n",
    "Print a list in reverse without breaklines, you can *NOT* use .reverse() function"
   ]
  },
  {
   "cell_type": "code",
   "execution_count": 63,
   "metadata": {},
   "outputs": [
    {
     "data": {
      "text/plain": [
       "[3, 2, 1]"
      ]
     },
     "execution_count": 63,
     "metadata": {},
     "output_type": "execute_result"
    }
   ],
   "source": [
    "def print_reverse(list):\n",
    "    new_list=list.copy()\n",
    "    for i in range(0,len(list)):\n",
    "        new_list[len(list)-1-i]=list[i]\n",
    "    return new_list\n",
    "\n",
    "print_reverse([1,2,3]) # Expect 3 2 1 or similar\n"
   ]
  },
  {
   "cell_type": "markdown",
   "metadata": {},
   "source": [
    "## Exercise 1\n",
    "Return the first vowel position in optimal form, in case the word dont have vowel the result must be -1"
   ]
  },
  {
   "cell_type": "code",
   "execution_count": 64,
   "metadata": {},
   "outputs": [
    {
     "name": "stdout",
     "output_type": "stream",
     "text": [
      "2\n",
      "-1\n"
     ]
    }
   ],
   "source": [
    "vowels = [\"a\",\"e\",\"i\",\"o\",\"u\"]\n",
    "def isVowel(letter):\n",
    "    isVowel = False\n",
    "    idx = 0\n",
    "    while not isVowel and idx < len(vowels):\n",
    "        isVowel = letter ==vowels[idx]\n",
    "        idx +=1 \n",
    "    return isVowel\n",
    "\n",
    "def first_vowel_position(word):\n",
    "    hasVowels = False\n",
    "    idx = 0\n",
    "    position=-1\n",
    "    while not hasVowels and idx < len(word):\n",
    "        hasVowels = isVowel(word[idx])\n",
    "        idx +=1\n",
    "    if hasVowels == True:\n",
    "        position=idx-1\n",
    "    return position\n",
    "print(first_vowel_position(\"Trace\")) # Expect 2\n",
    "print(first_vowel_position(\"txt\")) # Expect -1"
   ]
  },
  {
   "attachments": {},
   "cell_type": "markdown",
   "metadata": {},
   "source": [
    "## Exercise 2\n",
    "\n",
    "Return the last vowel position in optimal form, in case the word dont have vowel the result must be -1. \n",
    "\n",
    "Use a for statement, why is not more optimal than use while? Explain"
   ]
  },
  {
   "cell_type": "code",
   "execution_count": 65,
   "metadata": {},
   "outputs": [
    {
     "data": {
      "text/plain": [
       "4"
      ]
     },
     "execution_count": 65,
     "metadata": {},
     "output_type": "execute_result"
    }
   ],
   "source": [
    "def last_vowel_position(word):\n",
    "    hasVowels = False\n",
    "    position=-1\n",
    "    for idx in range(0,len(word)):\n",
    "        hasVowels = isVowel(word[idx])\n",
    "        if hasVowels == True:\n",
    "            position=idx\n",
    "    return position\n",
    "last_vowel_position(\"Trace\") # Expect 2"
   ]
  },
  {
   "attachments": {},
   "cell_type": "markdown",
   "metadata": {},
   "source": [
    "## Exercise 3\n",
    "Change list of digits (0 to 9) to list of letters\n",
    "\n",
    "Hint: the list of the words is ordered. "
   ]
  },
  {
   "cell_type": "code",
   "execution_count": 66,
   "metadata": {},
   "outputs": [
    {
     "data": {
      "text/plain": [
       "['two', 'five', 'one', 'nine']"
      ]
     },
     "execution_count": 66,
     "metadata": {},
     "output_type": "execute_result"
    }
   ],
   "source": [
    "words = [\"zero\",\"one\",\"two\",\"three\",\"four\",\"five\",\"six\",\"seven\",\"eight\",\"nine\"]\n",
    "def change_to_words(listOfNumbers):\n",
    "    new_list=listOfNumbers.copy()\n",
    "    for i in range(0,len(listOfNumbers)):\n",
    "        new_list[i]=words[listOfNumbers[i]]\n",
    "    return new_list\n",
    "change_to_words([2,5,1,9]) # [\"two\",\"five\",\"one\",\"nine\"]"
   ]
  },
  {
   "attachments": {},
   "cell_type": "markdown",
   "metadata": {},
   "source": [
    "## Exercise 4\n",
    "Create a diagonal matrix (nxn) by size. Only have 1s , in principal diagonal and the rest are 0s.\n",
    "\n",
    "| 1 | 0 | 0 |\n",
    "| -- | -- | -- | \n",
    "| 0 | 1 | 0 |\n",
    "| 0 | 0 | 1 |\n",
    "\n",
    "Hint : What happend with the index in diagonal ?"
   ]
  },
  {
   "cell_type": "code",
   "execution_count": 67,
   "metadata": {},
   "outputs": [
    {
     "data": {
      "text/plain": [
       "[[1, 0, 0, 0], [0, 1, 0, 0], [0, 0, 1, 0], [0, 0, 0, 1]]"
      ]
     },
     "execution_count": 67,
     "metadata": {},
     "output_type": "execute_result"
    }
   ],
   "source": [
    "def create_diagonal_matrix(size):\n",
    "   matrix = []   \n",
    "   for i in range(size): \n",
    "      row = []         \n",
    "      for j in range(size):\n",
    "         if i==j:\n",
    "            row.append(1)\n",
    "         else:\n",
    "            row.append(0)\n",
    "      # print(row)\n",
    "      matrix.append(row)\n",
    "   return matrix\n",
    "\n",
    "create_diagonal_matrix(4) \n",
    "# [[1, 0, 0, 0], [0, 1, 0, 0], [0, 0, 1, 0], [0, 0, 0, 1]]"
   ]
  },
  {
   "attachments": {},
   "cell_type": "markdown",
   "metadata": {},
   "source": [
    "## Exercise 5\n",
    "Find the max number of not empty matrix of positive numbers. Print the position and the value.\n",
    "\n"
   ]
  },
  {
   "cell_type": "code",
   "execution_count": 72,
   "metadata": {},
   "outputs": [
    {
     "name": "stdout",
     "output_type": "stream",
     "text": [
      "Value: 23 Position:  (1, 1)\n"
     ]
    }
   ],
   "source": [
    "def find_maximum_matrix(matrix):\n",
    "    max=0\n",
    "    row_max=0\n",
    "    column_max=0\n",
    "    for row in range(0,len(matrix)):\n",
    "        for column in range(0,len(matrix[row])):\n",
    "            if matrix[row][column]>max:\n",
    "                column_max=column\n",
    "                row_max=row\n",
    "                max=matrix[row][column]\n",
    "    print(\"Value:\",max,\"Position: \",(row_max,column_max))\n",
    "\n",
    "# Please test this scenary\n",
    "find_maximum_matrix([[5,2,3],[19,23],[0,4,1,4]]) # Position 1, 1 Value 23"
   ]
  },
  {
   "attachments": {},
   "cell_type": "markdown",
   "metadata": {},
   "source": [
    "## Exercise 6\n",
    "Create a list with the sum of the elements of each row.\n",
    "\n",
    "Example \n",
    "| 1 | 0 | 1 |\n",
    "| -- | -- | -- | \n",
    "| 4 | 1 | 0 |\n",
    "| 0 | 5 | 1 |\n",
    "\n",
    "Result :\n",
    "\n",
    "[2,5,6]"
   ]
  },
  {
   "cell_type": "code",
   "execution_count": 77,
   "metadata": {},
   "outputs": [
    {
     "data": {
      "text/plain": [
       "[2, 5, 6]"
      ]
     },
     "execution_count": 77,
     "metadata": {},
     "output_type": "execute_result"
    }
   ],
   "source": [
    "\"\"\"\n",
    "    This method return the sum of the elemnts of rows. Your CAN'T use \"build-in\" method sum() please implement with for statement\n",
    "    sum(list)\n",
    "\"\"\"\n",
    "def calculate_sum_of_row(row):\n",
    "    suma=0\n",
    "    for j in range(0,len(row)):\n",
    "        suma += row[j]\n",
    "    return suma\n",
    "\n",
    "def compute_sum_of_rows(matrix):\n",
    "    suma_matrix=[]\n",
    "    for i in range(0,len(matrix)):\n",
    "        suma_matrix.append(calculate_sum_of_row(matrix[i]))\n",
    "    return suma_matrix\n",
    "\n",
    "compute_sum_of_rows([[1,0,1],[4,1,0],[0,5,1]])\n",
    " "
   ]
  },
  {
   "cell_type": "code",
   "execution_count": 78,
   "metadata": {},
   "outputs": [
    {
     "data": {
      "text/plain": [
       "13"
      ]
     },
     "execution_count": 78,
     "metadata": {},
     "output_type": "execute_result"
    }
   ],
   "source": [
    "# Now calculate the sum of all elements of list, use previous functions\n",
    "\n",
    "def sum_of_all_elemnts(matrix):\n",
    "    a=calculate_sum_of_row(compute_sum_of_rows(matrix))\n",
    "    return a\n",
    "\n",
    "sum_of_all_elemnts([[1,0,1],[4,1,0],[0,5,1]])\n",
    "# Expect result is 13 with the matrix of the example"
   ]
  },
  {
   "attachments": {},
   "cell_type": "markdown",
   "metadata": {},
   "source": [
    "## Exercise 7\n",
    "Create a Triagular matrix n x n.\n",
    "Only have 1s and 0s\n",
    "\n",
    "Result  \n",
    "| 1 | 1 | 1 |\n",
    "| -- | -- | -- | \n",
    "| 1| 1 | 0 |\n",
    "| 1 | 0 | 0 |\n",
    "\n",
    "Hint: Counter to lower value\n"
   ]
  },
  {
   "cell_type": "code",
   "execution_count": 82,
   "metadata": {},
   "outputs": [
    {
     "data": {
      "text/plain": [
       "[[1, 1, 1, 1, 1],\n",
       " [1, 1, 1, 1, 0],\n",
       " [1, 1, 1, 0, 0],\n",
       " [1, 1, 0, 0, 0],\n",
       " [1, 0, 0, 0, 0]]"
      ]
     },
     "execution_count": 82,
     "metadata": {},
     "output_type": "execute_result"
    }
   ],
   "source": [
    "def triagular_diagonal_matrix(size): #hace lo mismo pero pal otro lado xd\n",
    "    matrix = []   \n",
    "    for i in range(size): \n",
    "        row = []         \n",
    "        for j in range(size):\n",
    "            if i<=j:\n",
    "                row.append(1)\n",
    "            else:\n",
    "                row.append(0)\n",
    "        # print(row)\n",
    "        matrix.append(row)\n",
    "    return matrix\n",
    "\n",
    "def triagular_matrix(size):\n",
    "    new_matrix=[]\n",
    "    a=triagular_diagonal_matrix(size)\n",
    "    for i in range(len(a)):\n",
    "        new_matrix.append(print_reverse(a[i]))\n",
    "    return new_matrix\n",
    "\n",
    "\n",
    "triagular_matrix(5)\n",
    "#counter = 10\n",
    "#counter -=1 # is the same of counter = counter - 1"
   ]
  }
 ],
 "metadata": {
  "kernelspec": {
   "display_name": "Python 3",
   "language": "python",
   "name": "python3"
  },
  "language_info": {
   "codemirror_mode": {
    "name": "ipython",
    "version": 3
   },
   "file_extension": ".py",
   "mimetype": "text/x-python",
   "name": "python",
   "nbconvert_exporter": "python",
   "pygments_lexer": "ipython3",
   "version": "3.10.9"
  },
  "orig_nbformat": 4,
  "vscode": {
   "interpreter": {
    "hash": "3282607f385ea6f15702157e2a823b97e47a25ad58852c02230532c044fb265d"
   }
  }
 },
 "nbformat": 4,
 "nbformat_minor": 2
}
