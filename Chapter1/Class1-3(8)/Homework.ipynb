{
 "cells": [
  {
   "cell_type": "markdown",
   "metadata": {},
   "source": [
    "# Homework Class 8"
   ]
  },
  {
   "cell_type": "markdown",
   "metadata": {},
   "source": [
    "### Please learn about git \n",
    "\n",
    "[https://learngitbranching.js.org/?locale=es_ES]\n",
    "\n",
    "Secuencia Introductoria, Acelerando, Moviendo el trabajo por ahi.\n",
    "Y Push y pull of the section Git Remote\n",
    "\n"
   ]
  },
  {
   "cell_type": "markdown",
   "metadata": {},
   "source": [
    "<<<<<<<<<<<<  **Add screen shot of completetion HERE in markdown** >>>>>>>>>>>>>>>>>>>>>>>>\n",
    "\n",
    "Maybe you have to create a new image folder in your repo in this class folder"
   ]
  },
  {
   "cell_type": "markdown",
   "metadata": {},
   "source": [
    "## Exercise 0\n",
    "\n",
    "Please create a function to create a list to 1 to max_number\n",
    "\n",
    "Example\n",
    "\n",
    "n = 10\n",
    "\n",
    "Output\n",
    "\n",
    "[1,2,3,4,5,6,7,8,9,10]"
   ]
  },
  {
   "cell_type": "code",
   "execution_count": 65,
   "metadata": {},
   "outputs": [
    {
     "name": "stdout",
     "output_type": "stream",
     "text": [
      "[1, 2, 3, 4, 5, 6, 7, 8, 9, 10]\n"
     ]
    }
   ],
   "source": [
    "def create_counter_list(max_number):\n",
    "    new_list=[]\n",
    "    for i in range(1,max_number+1):\n",
    "        new_list.append(i)\n",
    "    print(new_list)\n",
    "\n",
    "create_counter_list(10)"
   ]
  },
  {
   "cell_type": "markdown",
   "metadata": {},
   "source": [
    "## Exercise 1\n",
    "\n",
    "Please create a function to count the odd numbers of a list\n",
    "\n",
    "Example\n",
    "\n",
    "input = [2,2,3,4,4,6,7,8,9,10]\n",
    "\n",
    "output\n",
    "\n",
    "7"
   ]
  },
  {
   "cell_type": "code",
   "execution_count": 66,
   "metadata": {},
   "outputs": [
    {
     "name": "stdout",
     "output_type": "stream",
     "text": [
      "7\n"
     ]
    }
   ],
   "source": [
    "def count_odd_numbers(list):\n",
    "    count = 0\n",
    "    for index in range(0, len(list)):\n",
    "        if list[index]%2 == 0:\n",
    "            count = count + 1\n",
    "    print(count)\n",
    "\n",
    "input =[2,2,3,4,4,6,7,8,9,10]\n",
    "count_odd_numbers(input)"
   ]
  },
  {
   "cell_type": "markdown",
   "metadata": {},
   "source": [
    "## Exercise 2\n",
    "\n",
    "Please create a function that return a list of odd numbers of input list\n",
    "\n",
    "Example\n",
    "\n",
    "input = [2,2,3,4,4,6,7,8,9,10]\n",
    "\n",
    "output\n",
    "\n",
    "[2,2,4,4,6,8,10]"
   ]
  },
  {
   "cell_type": "code",
   "execution_count": 67,
   "metadata": {},
   "outputs": [
    {
     "name": "stdout",
     "output_type": "stream",
     "text": [
      "[2, 2, 4, 4, 6, 8, 10]\n"
     ]
    }
   ],
   "source": [
    "def list_odd_numbers(list):\n",
    "    new_list = []\n",
    "    for index in range(0, len(list)):\n",
    "        if list[index]%2 == 0:\n",
    "            new_list.append(list[index])\n",
    "    print(new_list)\n",
    "\n",
    "input =[2,2,3,4,4,6,7,8,9,10]\n",
    "list_odd_numbers(input)\n"
   ]
  },
  {
   "cell_type": "markdown",
   "metadata": {},
   "source": [
    "## Exercise 3\n",
    "\n",
    "Please create a function that return a list of two lists with odd and even separate numbers of input list\n",
    "\n",
    "Example\n",
    "\n",
    "input = [2,2,3,4,4,6,7,8,9,10]\n",
    "\n",
    "output\n",
    "\n",
    "[ [2,2,4,4,6,8,10] , [3,7,9] ]"
   ]
  },
  {
   "cell_type": "code",
   "execution_count": 68,
   "metadata": {},
   "outputs": [
    {
     "name": "stdout",
     "output_type": "stream",
     "text": [
      "[[2, 2, 4, 4, 6, 8, 10], [3, 7, 9]]\n"
     ]
    }
   ],
   "source": [
    "def list_odd_and_even_numbers(list):\n",
    "    odd = []\n",
    "    even = []\n",
    "    new_list = [even,odd]\n",
    "    for index in range(0, len(list)):\n",
    "        if list[index]%2 == 0:\n",
    "            even.append(list[index])\n",
    "        elif list[index]%2 == 1:\n",
    "            odd.append(list[index])\n",
    "        \n",
    "    print(new_list)\n",
    "\n",
    "input =[2,2,3,4,4,6,7,8,9,10]\n",
    "list_odd_and_even_numbers(input)"
   ]
  },
  {
   "cell_type": "markdown",
   "metadata": {},
   "source": [
    "## Exercise 4\n",
    "\n",
    "Please create a function that return a list of three lists with small , medium , and bigger words of a list of strings (words)\n",
    "(The result lists can be empty)\n",
    "\n",
    "Small (inclusive) : from 1 to 3 symbols\n",
    "Medium (inclusive): from 4 to 7 symbols\n",
    "Bigger (inclusive): 8 or more symbols\n",
    "\n",
    "Example 0 \n",
    "\n",
    "input = [\"carretera\", \"sun\", \"casa\",\"book\", \"compiler\",\"now\"]\n",
    "\n",
    "output\n",
    "\n",
    "[ [\"sun\",\"now\"] , [\"casa\",\"book\"], [\"carretera\",\"compiler\"]]\n",
    "\n",
    "Example 1\n",
    "\n",
    "input = [\"book\",\"casa\"]\n",
    "\n",
    "output\n",
    "\n",
    "[ [] , [\"book\",\"casa\"], []]"
   ]
  },
  {
   "cell_type": "code",
   "execution_count": 64,
   "metadata": {},
   "outputs": [
    {
     "name": "stdout",
     "output_type": "stream",
     "text": [
      "[['sun', 'now'], ['casa', 'book'], ['carretera', 'compiler']]\n"
     ]
    }
   ],
   "source": [
    "def group_words_by_size(list):\n",
    "    small = []\n",
    "    medium = []\n",
    "    bigger = []\n",
    "    new_list = [small,medium,bigger]\n",
    "    for index in range(0, len(list)):\n",
    "        if len(list[index]) <= 3:\n",
    "            small.append(list[index])\n",
    "        elif len(list[index]) <= 7:\n",
    "            medium.append(list[index])\n",
    "        else:\n",
    "            bigger.append(list[index])\n",
    "        \n",
    "    print(new_list)\n",
    "\n",
    "input =[\"carretera\",\"sun\",\"casa\",\"book\",\"compiler\",\"now\"]\n",
    "group_words_by_size(input)"
   ]
  }
 ],
 "metadata": {
  "kernelspec": {
   "display_name": "Python 3",
   "language": "python",
   "name": "python3"
  },
  "language_info": {
   "codemirror_mode": {
    "name": "ipython",
    "version": 3
   },
   "file_extension": ".py",
   "mimetype": "text/x-python",
   "name": "python",
   "nbconvert_exporter": "python",
   "pygments_lexer": "ipython3",
<<<<<<< Updated upstream
   "version": "3.10.9 (tags/v3.10.9:1dd9be6, Dec  6 2022, 20:01:21) [MSC v.1934 64 bit (AMD64)]"
=======
   "version": "3.10.9"
>>>>>>> Stashed changes
  },
  "orig_nbformat": 4,
  "vscode": {
   "interpreter": {
    "hash": "3282607f385ea6f15702157e2a823b97e47a25ad58852c02230532c044fb265d"
   }
  }
 },
 "nbformat": 4,
 "nbformat_minor": 2
}
