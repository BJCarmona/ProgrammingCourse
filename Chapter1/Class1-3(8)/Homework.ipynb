{
 "cells": [
  {
   "cell_type": "markdown",
   "metadata": {},
   "source": [
    "# Homework Class 8"
   ]
  },
  {
   "cell_type": "markdown",
   "metadata": {},
   "source": [
    "### Please learn about git \n",
    "\n",
    "[https://learngitbranching.js.org/?locale=es_ES]\n",
    "\n",
    "Secuencia Introductoria, Acelerando, Moviendo el trabajo por ahi.\n",
    "Y Push y pull of the section Git Remote\n",
    "\n"
   ]
  },
  {
   "cell_type": "markdown",
   "metadata": {},
   "source": [
    "<<<<<<<<<<<<  **Add screen shot of completetion HERE in markdown** >>>>>>>>>>>>>>>>>>>>>>>>\n",
    "\n",
    "Maybe you have to create a new image folder in your repo in this class folder"
   ]
  },
  {
   "cell_type": "markdown",
   "metadata": {},
   "source": [
    "## Exercise 0\n",
    "\n",
    "Please create a function to create a list to 1 to max_number\n",
    "\n",
    "Example\n",
    "\n",
    "n = 10\n",
    "\n",
    "Output\n",
    "\n",
    "[1,2,3,4,5,6,7,8,9,10]"
   ]
  },
  {
   "cell_type": "code",
   "execution_count": 4,
   "metadata": {},
   "outputs": [],
   "source": [
    "def create_counter_list(max_number):\n",
    "    pass # Your code here (Delete this line)"
   ]
  },
  {
   "cell_type": "markdown",
   "metadata": {},
   "source": [
    "## Exercise 1\n",
    "\n",
    "Please create a function to count the odd numbers of a list\n",
    "\n",
    "Example\n",
    "\n",
    "input = [2,2,3,4,4,6,7,8,9,10]\n",
    "\n",
    "output\n",
    "\n",
    "7"
   ]
  },
  {
   "cell_type": "code",
   "execution_count": 5,
   "metadata": {},
   "outputs": [],
   "source": [
    "def count_odd_numbers(list):\n",
    "    pass # Your code here (Delete this line)"
   ]
  },
  {
   "cell_type": "markdown",
   "metadata": {},
   "source": [
    "## Exercise 2\n",
    "\n",
    "Please create a function that return a list of odd numbers of input list\n",
    "\n",
    "Example\n",
    "\n",
    "input = [2,2,3,4,4,6,7,8,9,10]\n",
    "\n",
    "output\n",
    "\n",
    "[2,2,4,4,6,8,10]"
   ]
  },
  {
   "cell_type": "code",
   "execution_count": 1,
   "metadata": {},
   "outputs": [],
   "source": [
    "def list_odd_numbers(list):\n",
    "    pass # Your code here (Delete this line)"
   ]
  },
  {
   "cell_type": "markdown",
   "metadata": {},
   "source": [
    "## Exercise 3\n",
    "\n",
    "Please create a function that return a list of two lists with odd and even separate numbers of input list\n",
    "\n",
    "Example\n",
    "\n",
    "input = [2,2,3,4,4,6,7,8,9,10]\n",
    "\n",
    "output\n",
    "\n",
    "[ [2,2,4,4,6,8,10] , [3,7,9] ]"
   ]
  },
  {
   "cell_type": "code",
   "execution_count": null,
   "metadata": {},
   "outputs": [],
   "source": [
    "def list_odd_and_even_numbers(list):\n",
    "    pass # Your code here (Delete this line)"
   ]
  },
  {
   "cell_type": "markdown",
   "metadata": {},
   "source": [
    "## Exercise 4\n",
    "\n",
    "Please create a function that return a list of three lists with small , medium , and bigger words of a list of strings (words)\n",
    "(The result lists can be empty)\n",
    "\n",
    "Small (inclusive) : from 1 to 3 symbols\n",
    "Medium (inclusive): from 4 to 7 symbols\n",
    "Bigger (inclusive): 8 or more symbols\n",
    "\n",
    "Example 0 \n",
    "\n",
    "input = [\"carretera\", \"sun\", \"casa\",\"book\", \"compiler\",\"now\"]\n",
    "\n",
    "output\n",
    "\n",
    "[ [\"sun\",\"now\"] , [\"casa\",\"book\"], [\"carretera\",\"compiler\"]]\n",
    "\n",
    "Example 1\n",
    "\n",
    "input = [\"book\",\"casa\"]\n",
    "\n",
    "output\n",
    "\n",
    "[ [] , [\"book\",\"casa\"], []]"
   ]
  },
  {
   "cell_type": "code",
   "execution_count": null,
   "metadata": {},
   "outputs": [],
   "source": [
    "def group_words_by_size(list):\n",
    "    pass # Your code here (Delete this line)"
   ]
  }
 ],
 "metadata": {
  "kernelspec": {
   "display_name": "Python 3.10.4 64-bit",
   "language": "python",
   "name": "python3"
  },
  "language_info": {
   "codemirror_mode": {
    "name": "ipython",
    "version": 3
   },
   "file_extension": ".py",
   "mimetype": "text/x-python",
   "name": "python",
   "nbconvert_exporter": "python",
   "pygments_lexer": "ipython3",
   "version": "3.10.4"
  },
  "orig_nbformat": 4,
  "vscode": {
   "interpreter": {
    "hash": "e913b7897ac30ba1cf0615ffc95e0dcac655edcf15ece0252fa093eec079069f"
   }
  }
 },
 "nbformat": 4,
 "nbformat_minor": 2
}
