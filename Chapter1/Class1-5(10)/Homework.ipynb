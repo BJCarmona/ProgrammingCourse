{
 "cells": [
  {
   "attachments": {},
   "cell_type": "markdown",
   "metadata": {},
   "source": [
    "# Homework 1-5 (10)\n",
    "\n",
    "AND to tetris \n",
    "\n",
    "Please submit the screen shoots of your circuits"
   ]
  },
  {
   "attachments": {},
   "cell_type": "markdown",
   "metadata": {},
   "source": [
    "### Submit circuit of 3 bits to \"number\" of two bits \n",
    "\n",
    "<u> **the image must be rendered on Github pages** </u>"
   ]
  },
  {
   "attachments": {},
   "cell_type": "markdown",
   "metadata": {},
   "source": [
    "### Submit complete circuit (using boxes) of sum of two numbers with 2 or more bits (each one)\n",
    "\n",
    "<u> **the image must be rendered on Github pages** </u>"
   ]
  },
  {
   "attachments": {},
   "cell_type": "markdown",
   "metadata": {},
   "source": [
    "** Here ** "
   ]
  },
  {
   "attachments": {},
   "cell_type": "markdown",
   "metadata": {},
   "source": [
    "## Now Programing \n",
    "\n",
    "Implement sum of two binary positive numbers in python "
   ]
  },
  {
   "cell_type": "code",
<<<<<<< HEAD
   "execution_count": 11,
=======
   "execution_count": 7,
>>>>>>> 0078a86ec0e42e121759d3ab958dfb17a6b139b9
   "metadata": {},
   "outputs": [
    {
     "name": "stdout",
     "output_type": "stream",
     "text": [
      "[False, False, True, False, True, True]\n"
     ]
    }
   ],
   "source": [
    "# First Implement cast binary string to boolean values\n",
    "# The function must cast bineary list to boolean list\n",
    "# [ \"0\", \"0\", \"1\" ] -> [  False, False, True]\n",
    "# fixed_size put extra False on left side\n",
    "# fixed_size must be (always will be) >= len(boolean_list)\n",
    "# [ \"1\", \"1\"] , 3-> [False, True, True]\n",
    "def binary_to_boolean(binary_list, fixed_size):\n",
    "    boolean_list=[]\n",
    "    for i in range(0,fixed_size):\n",
    "        if fixed_size-i>len(binary_list):\n",
    "            boolean_list.append(False)\n",
    "        elif binary_list[i+len(binary_list)-fixed_size]==\"1\":\n",
    "            boolean_list.append(True)\n",
    "        else:\n",
    "            boolean_list.append(False)\n",
    "    return boolean_list\n",
    "    \n",
    "lista=[\"1\",\"0\",\"1\",\"1\"]\n",
    "print(binary_to_boolean(lista,6))"
   ]
  },
  {
   "cell_type": "code",
<<<<<<< HEAD
   "execution_count": 4,
=======
   "execution_count": 8,
>>>>>>> 0078a86ec0e42e121759d3ab958dfb17a6b139b9
   "metadata": {},
   "outputs": [
    {
     "name": "stdout",
     "output_type": "stream",
     "text": [
      "5\n"
     ]
    }
   ],
   "source": [
    "# Calculate the maximum posible number of the string list rep. of binary number\n",
    "# The result must be the size of the longest list + 1\n",
    "# [\"1\",\"1\"], [\"1\"] -> 3 / [\"1\"], [\"1\",\"0\",\"1\"] -> 4\n",
    "def define_fixed_size(binary_list_a, binary_list_b):\n",
    "    return max(len(binary_list_a),len(binary_list_b))+1\n",
    "    \n",
    "la=[\"1\"]\n",
    "lb=[\"1\",\"1\",\"0\",\"1\"]\n",
    "print(define_fixed_size(la,lb))"
   ]
  },
  {
   "cell_type": "code",
   "execution_count": 9,
   "metadata": {},
   "outputs": [
    {
     "name": "stdout",
     "output_type": "stream",
     "text": [
      "[False, True]\n"
     ]
    }
   ],
   "source": [
    "# Calculate the sum of A , B and C as Boolean , the result must be two boolean\n",
    "# Fist the result , next the carry\n",
    "# True, True , True -> [True, True]\n",
    "# True , False , True -> [False, True]\n",
    "def xor(I1,I2):\n",
    "    xor= (I1 or I2) and not (I1 and I2)\n",
    "    return xor\n",
    "    \n",
    "def basic_sum(A,B,carry):\n",
    "    result_sum=[False,False]\n",
    "    if xor(carry,xor(A,B)):\n",
    "        result_sum[0]=True\n",
    "    if (xor(A,B) and carry) or (A and B):\n",
    "        result_sum[1]=True\n",
    "    return result_sum\n",
    "\n",
    "print(basic_sum(True,False,True))"
   ]
  },
  {
   "cell_type": "code",
<<<<<<< HEAD
   "execution_count": 51,
=======
   "execution_count": 10,
   "metadata": {},
   "outputs": [],
   "source": [
    "# Covert a string to list of strings of size 1\n",
    "# Remember that you can iterate a String as list\n",
    "# \"10101\" -> [\"1\",\"0\",\"1\",\"0\",\"1\"]\n",
    "# Use append ...\n",
    "def split_custom(number_string):\n",
    "    pass\n"
   ]
  },
  {
   "cell_type": "code",
   "execution_count": 11,
   "metadata": {},
   "outputs": [],
   "source": [
    "# Covert a list of string to unique string \n",
    "# Remember that you can iterate a String as list\n",
    "#  [\"1\",\"0\",\"1\",\"0\",\"1\"] -> \"1010101\"\n",
    "# use concat ... \n",
    "def zip_custom(list_string):\n",
    "    pass\n"
   ]
  },
  {
   "cell_type": "code",
   "execution_count": 12,
>>>>>>> 0078a86ec0e42e121759d3ab958dfb17a6b139b9
   "metadata": {},
   "outputs": [
    {
     "name": "stdout",
     "output_type": "stream",
     "text": [
      "010\n"
     ]
    }
   ],
   "source": [
    "# Calculate the sum of two binary numbers (strings) (add new digit by default)\n",
    "# \"101\" , \"1\" -> \"0110\"\n",
<<<<<<< HEAD
    "def string_to_list(string_number):\n",
    "    list_number=[]\n",
    "    for character in range(0,len(string_number)):\n",
    "        list_number.append(string_number[character])\n",
    "    return list_number\n",
    "\n",
    "def list_to_string(list_to_convert):\n",
    "    new_string=\"\"\n",
    "    for x in list_to_convert:\n",
    "        if list_to_convert[x]==False:\n",
    "            new_string+= \"0\"\n",
    "        else:\n",
    "            new_string+= \"1\"\n",
    "    return new_string\n",
    "\n",
    "def sum_two_numbers(binary_number_a,binary_number_b):\n",
    "    size=define_fixed_size(string_to_list(binary_number_a),string_to_list(binary_number_b))\n",
    "    boolean_number_a=binary_to_boolean(string_to_list(binary_number_a),size)    \n",
    "    boolean_number_b=binary_to_boolean(string_to_list(binary_number_b),size)\n",
    "    carry=0\n",
    "    result=[]\n",
    "    for i in range(size-1,-1,-1):\n",
    "        result.append(basic_sum(boolean_number_a[i],boolean_number_b[i],carry)[0])\n",
    "        carry=basic_sum(boolean_number_a[i],boolean_number_b[i],carry)[1]\n",
    "    if result[size-1]==True:\n",
    "        result.append(False)\n",
    "    result.reverse()\n",
    "    string_result=list_to_string(result)\n",
    "    return string_result\n",
    "\n",
    "print(sum_two_numbers(\"1\",\"1\"))"
=======
    "# \"001\" , \"0\" -> \"0001\"\n",
    "# \"111\" , \"111\" -> \"1110\"\n",
    "def sum_two_numbers(binary_number_a,binary_number_b):\n",
    "    # use split ,  zip ... etc .. etc ...\n",
    "    pass"
>>>>>>> 0078a86ec0e42e121759d3ab958dfb17a6b139b9
   ]
  }
 ],
 "metadata": {
  "kernelspec": {
   "display_name": "Python 3",
   "language": "python",
   "name": "python3"
  },
  "language_info": {
   "codemirror_mode": {
    "name": "ipython",
    "version": 3
   },
   "file_extension": ".py",
   "mimetype": "text/x-python",
   "name": "python",
   "nbconvert_exporter": "python",
   "pygments_lexer": "ipython3",
   "version": "3.10.4"
  },
  "orig_nbformat": 4,
  "vscode": {
   "interpreter": {
<<<<<<< HEAD
    "hash": "3282607f385ea6f15702157e2a823b97e47a25ad58852c02230532c044fb265d"
=======
    "hash": "e913b7897ac30ba1cf0615ffc95e0dcac655edcf15ece0252fa093eec079069f"
>>>>>>> 0078a86ec0e42e121759d3ab958dfb17a6b139b9
   }
  }
 },
 "nbformat": 4,
 "nbformat_minor": 2
}
